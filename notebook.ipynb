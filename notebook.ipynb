{
 "cells": [
  {
   "cell_type": "markdown",
   "metadata": {},
   "source": [
    "# Importing library"
   ]
  },
  {
   "cell_type": "code",
   "execution_count": 27,
   "metadata": {},
   "outputs": [],
   "source": [
    "import os\n",
    "import torch\n",
    "from PIL import Image\n",
    "import opendatasets as od\n",
    "import torch.nn as nn\n",
    "from torchvision import datasets, transforms\n",
    "import matplotlib.pyplot as plt\n",
    "from torch.utils.data import DataLoader"
   ]
  },
  {
   "cell_type": "markdown",
   "metadata": {},
   "source": [
    "# Data Setting"
   ]
  },
  {
   "cell_type": "code",
   "execution_count": 28,
   "metadata": {},
   "outputs": [],
   "source": [
    "batch_size = 4"
   ]
  },
  {
   "cell_type": "markdown",
   "metadata": {},
   "source": [
    "## Monet dataset"
   ]
  },
  {
   "cell_type": "code",
   "execution_count": 29,
   "metadata": {},
   "outputs": [],
   "source": [
    "transform =transforms.Compose([transforms.ToTensor()])"
   ]
  },
  {
   "cell_type": "code",
   "execution_count": 30,
   "metadata": {},
   "outputs": [],
   "source": [
    "monet_dataset_folderurl=r'gan-getting-started\\monet_jpg'"
   ]
  },
  {
   "cell_type": "code",
   "execution_count": 31,
   "metadata": {},
   "outputs": [],
   "source": [
    "monet_tensor= []\n",
    "for file in os.listdir(monet_dataset_folderurl):\n",
    "    image_path = os.path.join(monet_dataset_folderurl, file)\n",
    "    image = Image.open(image_path)\n",
    "    image = transform(image)  # Assuming transform is a torchvision transform\n",
    "    monet_tensor.append(image)"
   ]
  },
  {
   "cell_type": "code",
   "execution_count": 32,
   "metadata": {},
   "outputs": [],
   "source": [
    "Monet_dl=DataLoader(monet_tensor, batch_size, shuffle=True, num_workers=2, pin_memory=False )"
   ]
  },
  {
   "cell_type": "markdown",
   "metadata": {},
   "source": [
    "## Photos Dataset"
   ]
  },
  {
   "cell_type": "code",
   "execution_count": 33,
   "metadata": {},
   "outputs": [],
   "source": [
    "photo_dataset_folderurl=r'gan-getting-started\\photo_jpg'"
   ]
  },
  {
   "cell_type": "code",
   "execution_count": 34,
   "metadata": {},
   "outputs": [],
   "source": [
    "photos_tensor=[]\n",
    "for file in os.listdir(photo_dataset_folderurl):\n",
    "    image_path = os.path.join(photo_dataset_folderurl, file)\n",
    "    image = Image.open(image_path)\n",
    "    image = transform(image)  # Assuming transform is a torchvision transform\n",
    "    photos_tensor.append(image)"
   ]
  },
  {
   "cell_type": "code",
   "execution_count": 35,
   "metadata": {},
   "outputs": [],
   "source": [
    "photos_dl=DataLoader(photos_tensor, batch_size, shuffle=True, num_workers=2, pin_memory=False )"
   ]
  },
  {
   "cell_type": "markdown",
   "metadata": {},
   "source": [
    "# Model"
   ]
  },
  {
   "cell_type": "markdown",
   "metadata": {},
   "source": [
    "## Style transfer model"
   ]
  },
  {
   "cell_type": "code",
   "execution_count": 80,
   "metadata": {},
   "outputs": [],
   "source": [
    "class StyleTransfer(nn.Module):\n",
    "    def __init__(self):\n",
    "        super(StyleTransfer, self).__init__()\n",
    "        self.encoder = nn.Sequential(\n",
    "            nn.Conv2d(3, 32, kernel_size=3, stride=2, padding=1),  # shape: (batch_size, 32, 128, 128)\n",
    "            nn.ReLU(inplace=True),\n",
    "            nn.Conv2d(32, 64, kernel_size=3, stride=2, padding=1),  # shape: (batch_size, 64, 64, 64)\n",
    "            nn.ReLU(inplace=True),\n",
    "            nn.Conv2d(64, 128, kernel_size=3, stride=2, padding=1), # shape: (batch_size, 128, 32, 32)\n",
    "            nn.ReLU(inplace=True)\n",
    "        )\n",
    "\n",
    "        self.decoder = nn.Sequential(\n",
    "            nn.ConvTranspose2d(128, 64, kernel_size=3, stride=2, padding=1, output_padding=1),  # shape: (batch_size, 64, 64, 64)\n",
    "            nn.ReLU(inplace=True),\n",
    "            nn.ConvTranspose2d(64, 32, kernel_size=3, stride=2, padding=1, output_padding=1),   # shape: (batch_size, 32, 128, 128)\n",
    "            nn.ReLU(inplace=True),\n",
    "            nn.ConvTranspose2d(32, 3, kernel_size=3, stride=2, padding=1, output_padding=1),    # shape: (batch_size, 3, 256, 256)\n",
    "            nn.Sigmoid()  # Using Sigmoid to get the output in the range [0, 1]\n",
    "        )\n",
    "    def forward(self, x):\n",
    "        x = self.encoder(x)\n",
    "        x = self.decoder(x)\n",
    "        return x"
   ]
  },
  {
   "cell_type": "code",
   "execution_count": 81,
   "metadata": {},
   "outputs": [],
   "source": [
    "model = StyleTransfer()"
   ]
  },
  {
   "cell_type": "markdown",
   "metadata": {},
   "source": [
    "## Discriminator "
   ]
  },
  {
   "cell_type": "code",
   "execution_count": 82,
   "metadata": {},
   "outputs": [],
   "source": [
    "discriminator= nn.Sequential(\n",
    "                                nn.Conv2d(3,32, kernel_size= 4, stride= 2, padding= 2), #shape b_s, 32 , 128,128 \n",
    "                                                                                                                \n",
    "                                nn.Conv2d(32,64, kernel_size= 4, stride= 2, padding= 2), #shape b_s, 64 , 64,64\n",
    "                                     \n",
    "                                nn.Conv2d(64,32, kernel_size= 4, stride= 2, padding= 2), #shape b_s, 32 , 32,32 \n",
    "                                      \n",
    "                                nn.Conv2d(32,16, kernel_size= 4, stride= 2, padding= 2), #shape b_s, 16 ,16 ,16 \n",
    "                                      \n",
    "                                nn.Conv2d(16,8,kernel_size= 4, stride= 2, padding= 2),  #shape b_s, 8,8,8\n",
    "                                       \n",
    "                                nn.Conv2d(8,4,kernel_size= 4, stride= 2, padding= 2),   #shape b_s, 4,4,4\n",
    "                                       \n",
    "                                nn.Conv2d(4,2,kernel_size= 4, stride= 2, padding= 2 ),  #shape b_s, 2,2,2\n",
    "                                       \n",
    "                                nn.Conv2d(2,1,kernel_size= 4, stride= 2, padding= 2 ),  #shape b_s, 1,1,1\n",
    "                                    nn.Conv2d(1,1,kernel_size= 2, stride= 1, padding= 0 ),  #shape b_s, 1,1,1 \n",
    "                                nn.Flatten(), nn.Sigmoid()\n",
    "                                    )"
   ]
  },
  {
   "cell_type": "code",
   "execution_count": 83,
   "metadata": {},
   "outputs": [],
   "source": [
    "discriminator = nn.Sequential(\n",
    "    nn.Conv2d(3, 32, kernel_size=4, stride=2, padding=2),  # shape: (batch_size, 32, 128, 128)\n",
    "    nn.LeakyReLU(0.2, inplace=True),\n",
    "    \n",
    "    nn.Conv2d(32, 64, kernel_size=4, stride=2, padding=2),  # shape: (batch_size, 64, 64, 64)\n",
    "    nn.LeakyReLU(0.2, inplace=True),\n",
    "    \n",
    "    nn.Conv2d(64, 32, kernel_size=4, stride=2, padding=2),  # shape: (batch_size, 32, 32, 32)\n",
    "    nn.LeakyReLU(0.2, inplace=True),\n",
    "    \n",
    "    nn.Conv2d(32, 16, kernel_size=4, stride=2, padding=2),  # shape: (batch_size, 16, 16, 16)\n",
    "    nn.LeakyReLU(0.2, inplace=True),\n",
    "    \n",
    "    nn.Conv2d(16, 8, kernel_size=4, stride=2, padding=2),   # shape: (batch_size, 8, 8, 8)\n",
    "    nn.LeakyReLU(0.2, inplace=True),\n",
    "    \n",
    "    nn.Conv2d(8, 4, kernel_size=4, stride=2, padding=2),    # shape: (batch_size, 4, 4, 4)\n",
    "    nn.LeakyReLU(0.2, inplace=True),\n",
    "    \n",
    "    nn.Conv2d(4, 2, kernel_size=4, stride=2, padding=2),    # shape: (batch_size, 2, 2, 2)\n",
    "    nn.LeakyReLU(0.2, inplace=True),\n",
    "    \n",
    "    nn.Conv2d(2, 1, kernel_size=4, stride=2, padding=2),    # shape: (batch_size, 1, 1, 1)\n",
    "    nn.LeakyReLU(0.2, inplace=True),\n",
    "    \n",
    "    nn.Conv2d(1, 1, kernel_size=2, stride=1, padding=0),    # shape: (batch_size, 1, 1, 1)\n",
    "    nn.Flatten(),\n",
    "    nn.Sigmoid()\n",
    ")\n"
   ]
  },
  {
   "cell_type": "code",
   "execution_count": 84,
   "metadata": {},
   "outputs": [],
   "source": [
    "x =discriminator(monet_tensor[0].unsqueeze(0))"
   ]
  },
  {
   "cell_type": "code",
   "execution_count": 85,
   "metadata": {},
   "outputs": [],
   "source": [
    "def x():\n",
    " axs[0].imshow(image_np)\n",
    " axs[0].set_title('Original Image')\n",
    " axs[0].axis('off')\n",
    "\n",
    "# Plot the model output image\n",
    " axs[1].imshow(model_output_image)\n",
    " axs[1].set_title('Model Output')\n",
    " axs[1].axis('off')"
   ]
  },
  {
   "cell_type": "code",
   "execution_count": 86,
   "metadata": {},
   "outputs": [],
   "source": [
    "k=0\n",
    "def save_progress(k, save=False):\n",
    " image_np = photos_tensor[3].cpu().detach().numpy().transpose(1, 2, 0)\n",
    "\n",
    " model_output_image= model(photos_tensor[3]).cpu().detach().numpy().transpose(1, 2, 0)\n",
    "\n",
    "# Create a figure and a grid of subplots\n",
    " fig, axs = plt.subplots(1, 2, figsize=(10, 5))\n",
    "\n",
    "\n",
    "# Plot the original image\n",
    "\n",
    "\n",
    "# Adjust the layout to make room for titles\n",
    "\n",
    " #plt.tight_layout()\n",
    " if save:\n",
    "  fig.savefig(r'Output\\output_images__{i}.png'.format(i=k))\n",
    " return k\n"
   ]
  },
  {
   "cell_type": "code",
   "execution_count": 87,
   "metadata": {},
   "outputs": [
    {
     "data": {
      "image/png": "[encoded data removed]",
      "text/plain": [
       "<Figure size 1000x500 with 2 Axes>"
      ]
     },
     "metadata": {},
     "output_type": "display_data"
    }
   ],
   "source": [
    "k= save_progress(k+1, save= False )"
   ]
  },
  {
   "cell_type": "markdown",
   "metadata": {},
   "source": [
    "# Train discriminator"
   ]
  },
  {
   "cell_type": "code",
   "execution_count": 88,
   "metadata": {},
   "outputs": [],
   "source": [
    "import torch.nn.functional as F"
   ]
  },
  {
   "cell_type": "code",
   "execution_count": 89,
   "metadata": {},
   "outputs": [],
   "source": [
    "def train_discriminator(real_img,fake_img ,opt_d):\n",
    "    #clear discriminator grad\n",
    "    opt_d.zero_grad()\n",
    "\n",
    "    #passreal imageto discriminaor\n",
    "    real_pred=discriminator(real_img)\n",
    "    real_target = torch.ones(real_img.size(0), 1)\n",
    "    real_loss = F.cross_entropy(real_pred, real_target)\n",
    "    fake_score = torch.mean(real_pred).item()\n",
    "    real_score = torch.mean(real_pred).item()\n",
    "\n",
    "\n",
    "    #pass fake  image through discriminator\n",
    "    fake_pred = discriminator(fake_img)\n",
    "    fake_target = torch.zeros(fake_img.size(0), 1)\n",
    "    fake_loss =  F.binary_cross_entropy(fake_pred, fake_target)\n",
    "    fake_score = torch.mean(fake_pred).item()\n",
    "\n",
    "    loss = real_loss + fake_loss\n",
    "    loss.backward()\n",
    "    opt_d.step()\n",
    "    return loss.item(), real_score, fake_score\n",
    "\n"
   ]
  },
  {
   "cell_type": "code",
   "execution_count": 99,
   "metadata": {},
   "outputs": [],
   "source": [
    "def train_generator(opt_g, real_img):\n",
    "    # Clear generator gradients\n",
    "    opt_g.zero_grad()\n",
    "\n",
    "    # Generate fake images\n",
    "    fake_images = model(real_img)\n",
    "\n",
    "    # Try to fool the discriminator\n",
    "    preds = discriminator(fake_images)\n",
    "    targets = torch.zeros_like(preds)  # Use zeros as targets for fake images\n",
    "    loss = F.binary_cross_entropy(preds, targets)\n",
    "\n",
    "    # Update generator weights\n",
    "    loss.backward()\n",
    "    opt_g.step()\n",
    "\n",
    "    return loss.item()\n"
   ]
  },
  {
   "cell_type": "code",
   "execution_count": 100,
   "metadata": {},
   "outputs": [],
   "source": [
    "from tqdm.notebook import tqdm"
   ]
  },
  {
   "cell_type": "markdown",
   "metadata": {},
   "source": [
    "# Training model"
   ]
  },
  {
   "cell_type": "code",
   "execution_count": 101,
   "metadata": {},
   "outputs": [],
   "source": [
    "def fit(epochs, lr):\n",
    "    k=1\n",
    "    torch.cuda.empty_cache()\n",
    "\n",
    "    # Losses & scores\n",
    "    losses_g = []\n",
    "    losses_d = []\n",
    "    real_scores = []\n",
    "    fake_scores = []\n",
    "\n",
    "    # Create optimizers\n",
    "    opt_d = torch.optim.Adam(discriminator.parameters(), lr=lr, betas=(0.5, 0.999))\n",
    "    opt_g = torch.optim.Adam(model.parameters(), lr=lr, betas=(0.5, 0.999))\n",
    "#    opt_g = torch.optim.Adam(model.parameters(), lr=lr)\n",
    "\n",
    "    for epoch in range(epochs):\n",
    "        for real_images , fake_images in tqdm(zip(Monet_dl, photos_dl)):\n",
    "            # Train discriminator\n",
    "            loss_d, real_score, fake_score = train_discriminator(real_images, fake_images,opt_d)\n",
    "            loss_g  = train_generator(fake_images, opt_g)\n",
    "            # Train generator\n",
    "            \n",
    "   #     for fake_images in tqdm(photos_dl):\n",
    "\n",
    "      #      loss_g  = model(fake_images, opt_d)\n",
    "\n",
    "        # Record losses & scores\n",
    "     #   losses_g.append(loss_g)\n",
    "        losses_d.append(loss_d)\n",
    "        real_scores.append(real_score)\n",
    "        fake_scores.append(fake_score)\n",
    "\n",
    "        # Log losses & scores (last batch)\n",
    "        #print(\"Epoch [{}/{}], loss_g: {:.4f}, loss_d: {:.4f}, real_score: {:.4f}, fake_score: {:.4f}\".format(\n",
    "        #    epoch+1, epochs, loss_g, loss_d, real_score, fake_score))\n",
    "\n",
    "        print(\"Epoch [{}/{}], loss_d: {:.4f}, real_score: {:.4f}, fake_score: {:.4f}\".format(\n",
    "           epoch+1, epochs,  loss_d, real_score, fake_score))\n",
    "\n",
    "        # Save generated images\n",
    "        k= save_progress(k+1, save= True )\n",
    "        \n",
    "\n",
    "    return losses_g, losses_d, real_scores, fake_scores"
   ]
  },
  {
   "cell_type": "code",
   "execution_count": 102,
   "metadata": {},
   "outputs": [],
   "source": [
    "lr = 0.0002\n",
    "epochs = 25"
   ]
  },
  {
   "cell_type": "code",
   "execution_count": 103,
   "metadata": {},
   "outputs": [
    {
     "data": {
      "application/vnd.jupyter.widget-view+json": {
       "model_id": "d2cffe707de342f58206ca4bd0e09ef8",
       "version_major": 2,
       "version_minor": 0
      },
      "text/plain": [
       "0it [00:00, ?it/s]"
      ]
     },
     "metadata": {},
     "output_type": "display_data"
    },
    {
     "ename": "AttributeError",
     "evalue": "'Tensor' object has no attribute 'zero_grad'",
     "output_type": "error",
     "traceback": [
      "\u001b[1;31m---------------------------------------------------------------------------\u001b[0m",
      "\u001b[1;31mAttributeError\u001b[0m                            Traceback (most recent call last)",
      "Cell \u001b[1;32mIn[103], line 1\u001b[0m\n\u001b[1;32m----> 1\u001b[0m history \u001b[38;5;241m=\u001b[39m fit(epochs, lr)\n",
      "Cell \u001b[1;32mIn[101], line 20\u001b[0m, in \u001b[0;36mfit\u001b[1;34m(epochs, lr)\u001b[0m\n\u001b[0;32m     17\u001b[0m      \u001b[38;5;28;01mfor\u001b[39;00m real_images , fake_images \u001b[38;5;129;01min\u001b[39;00m tqdm(\u001b[38;5;28mzip\u001b[39m(Monet_dl, photos_dl)):\n\u001b[0;32m     18\u001b[0m          \u001b[38;5;66;03m# Train discriminator\u001b[39;00m\n\u001b[0;32m     19\u001b[0m          loss_d, real_score, fake_score \u001b[38;5;241m=\u001b[39m train_discriminator(real_images, fake_images,opt_d)\n\u001b[1;32m---> 20\u001b[0m          loss_g  \u001b[38;5;241m=\u001b[39m train_generator(fake_images, opt_g)\n\u001b[0;32m     21\u001b[0m          \u001b[38;5;66;03m# Train generator\u001b[39;00m\n\u001b[0;32m     22\u001b[0m          \n\u001b[0;32m     23\u001b[0m \u001b[38;5;66;03m#     for fake_images in tqdm(photos_dl):\u001b[39;00m\n\u001b[1;32m   (...)\u001b[0m\n\u001b[0;32m     27\u001b[0m      \u001b[38;5;66;03m# Record losses & scores\u001b[39;00m\n\u001b[0;32m     28\u001b[0m   \u001b[38;5;66;03m#   losses_g.append(loss_g)\u001b[39;00m\n\u001b[0;32m     29\u001b[0m      losses_d\u001b[38;5;241m.\u001b[39mappend(loss_d)\n",
      "Cell \u001b[1;32mIn[99], line 3\u001b[0m, in \u001b[0;36mtrain_generator\u001b[1;34m(opt_g, real_img)\u001b[0m\n\u001b[0;32m      1\u001b[0m \u001b[38;5;28;01mdef\u001b[39;00m \u001b[38;5;21mtrain_generator\u001b[39m(opt_g, real_img):\n\u001b[0;32m      2\u001b[0m     \u001b[38;5;66;03m# Clear generator gradients\u001b[39;00m\n\u001b[1;32m----> 3\u001b[0m     opt_g\u001b[38;5;241m.\u001b[39mzero_grad()\n\u001b[0;32m      5\u001b[0m     \u001b[38;5;66;03m# Generate fake images\u001b[39;00m\n\u001b[0;32m      6\u001b[0m     fake_images \u001b[38;5;241m=\u001b[39m model(real_img)\n",
      "\u001b[1;31mAttributeError\u001b[0m: 'Tensor' object has no attribute 'zero_grad'"
     ]
    }
   ],
   "source": [
    "history = fit(epochs, lr)"
   ]
  }
 ],
 "metadata": {
  "kernelspec": {
   "display_name": "base",
   "language": "python",
   "name": "python3"
  },
  "language_info": {
   "codemirror_mode": {
    "name": "ipython",
    "version": 3
   },
   "file_extension": ".py",
   "mimetype": "text/x-python",
   "name": "python",
   "nbconvert_exporter": "python",
   "pygments_lexer": "ipython3",
   "version": "3.11.7"
  }
 },
 "nbformat": 4,
 "nbformat_minor": 2
}
